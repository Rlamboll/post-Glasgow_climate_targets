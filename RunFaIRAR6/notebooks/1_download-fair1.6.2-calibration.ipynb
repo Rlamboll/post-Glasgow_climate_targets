{
 "cells": [
  {
   "cell_type": "markdown",
   "id": "b879b17c",
   "metadata": {},
   "source": [
    "# Download the FaIR v1.6.2 AR6 calibration\n",
    "\n",
    "This is a 68 MB file so we don't include it within the repository, but point to and download the Zenodo version."
   ]
  },
  {
   "cell_type": "code",
   "execution_count": 1,
   "id": "1b8948e1",
   "metadata": {},
   "outputs": [],
   "source": [
    "from climateforcing.utils import check_and_download, mkdir_p"
   ]
  },
  {
   "cell_type": "code",
   "execution_count": 2,
   "id": "16fdda87",
   "metadata": {},
   "outputs": [],
   "source": [
    "mkdir_p(\"../data_input/fair-1.6.2-ar6\")"
   ]
  },
  {
   "cell_type": "code",
   "execution_count": 3,
   "id": "c7ad7e1c",
   "metadata": {},
   "outputs": [],
   "source": [
    "check_and_download(\n",
    "    \"https://zenodo.org/record/5513022/files/fair-1.6.2-wg3-params.json\",\n",
    "    \"../data_input/fair-1.6.2-ar6/fair-1.6.2-wg3-params.json\"\n",
    ")"
   ]
  }
 ],
 "metadata": {
  "kernelspec": {
   "display_name": "silicone-1",
   "language": "python",
   "name": "silicone-1"
  },
  "language_info": {
   "codemirror_mode": {
    "name": "ipython",
    "version": 3
   },
   "file_extension": ".py",
   "mimetype": "text/x-python",
   "name": "python",
   "nbconvert_exporter": "python",
   "pygments_lexer": "ipython3",
   "version": "3.7.11"
  }
 },
 "nbformat": 4,
 "nbformat_minor": 5
}
