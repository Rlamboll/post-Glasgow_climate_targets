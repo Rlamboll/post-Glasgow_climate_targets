{
 "cells": [
  {
   "cell_type": "markdown",
   "id": "ec59cb3c",
   "metadata": {},
   "source": [
    "# Compare results to Global Methane Assessment\n",
    "\n",
    "...who showed a 0.2C decrease from an implied 30% reduction in methane. \n",
    "\n",
    "- run fair concentration-driven\n",
    "- expt1: fix GHG concentrations and SLCFs at 2015 levels, run to equilibrium\n",
    "- expt2: halve methane and set other SLCFs to 2050 levels (check exact spec in https://www.unep.org/resources/report/global-methane-assessment-benefits-and-costs-mitigating-methane-emissions)\n",
    "\n",
    "the concentration driven setup will be based on the AR6 GitHub at https://github.com/chrisroadmap/ar6/blob/main/notebooks/190_WG3_run-constrained-fair-ensemble-concentration-driven.ipynb"
   ]
  },
  {
   "cell_type": "code",
   "execution_count": 1,
   "id": "b5ff4c8c",
   "metadata": {},
   "outputs": [],
   "source": [
    "from copy import copy\n",
    "import json\n",
    "import platform\n",
    "\n",
    "from climateforcing.utils import mkdir_p\n",
    "from fair.forward import fair_scm\n",
    "import matplotlib.pyplot as pl\n",
    "import numpy as np\n",
    "import pandas as pd\n",
    "from tqdm import tqdm"
   ]
  },
  {
   "cell_type": "code",
   "execution_count": 2,
   "id": "7115dad5",
   "metadata": {},
   "outputs": [],
   "source": [
    "with open('../data_input/fair-1.6.2-ar6/fair-1.6.2-wg3-params.json') as f:\n",
    "    config_list = json.load(f)"
   ]
  },
  {
   "cell_type": "code",
   "execution_count": 3,
   "id": "870d33ab",
   "metadata": {},
   "outputs": [],
   "source": [
    "conc_all = pd.read_csv('../data_input/rcmip/rcmip-concentrations-annual-means-world-ssp370-v5-1-0.csv')\n",
    "emis_all = pd.read_csv('../data_input/rcmip/rcmip-emissions-annual-means-world-ssp370-v5-1-0.csv')\n",
    "\n",
    "results_out = {}"
   ]
  },
  {
   "cell_type": "code",
   "execution_count": 4,
   "id": "a270149e",
   "metadata": {},
   "outputs": [],
   "source": [
    "nt = 361"
   ]
  },
  {
   "cell_type": "code",
   "execution_count": 5,
   "id": "618777f6",
   "metadata": {},
   "outputs": [
    {
     "name": "stderr",
     "output_type": "stream",
     "text": [
      "100%|██████████████████████████████████████████████████████████████████████████████| 2237/2237 [02:17<00:00, 16.31it/s]\n"
     ]
    }
   ],
   "source": [
    "expt = 'ssp370'\n",
    "results_out[expt] = {}\n",
    "emis_subset = emis_all[(emis_all['Scenario']==expt)&(emis_all['Region']=='World')]\n",
    "species=['CO2|MAGICC Fossil and Industrial','CO2|MAGICC AFOLU','CH4','N2O','Sulfur','CO','VOC','NOx','BC','|OC','NH3',\n",
    "         'CF4','C2F6','C6F14','HFC23','HFC32','HFC4310mee','HFC125','HFC134a','HFC143a',\n",
    "         'HFC227ea','HFC245fa','SF6','CFC11','CFC12','CFC113','CFC114','CFC115','CCl4','CH3CCl3','HCFC22',\n",
    "         'HCFC141b','HCFC142b','Halon1211','Halon1202','Halon1301','Halon2402','CH3Br','|CH3Cl']\n",
    "emis = np.zeros((nt, 40))\n",
    "emis[:,0] = np.arange(1750, 2111)\n",
    "for ie, specie in enumerate(species):\n",
    "    try:\n",
    "        temp = emis_subset[emis_subset.Variable.str.endswith(specie)].loc[:,'1750':'2110'].values.squeeze()\n",
    "        emis[:,ie+1] = pd.Series(temp).interpolate().values\n",
    "    except:\n",
    "        emis[:,ie+1] = 0\n",
    "temp = emis_subset[emis_subset['Variable']=='Emissions|NOx|MAGICC Fossil and Industrial|Aircraft'].loc[:,'1750':'2500'].values.squeeze()\n",
    "aviNOx = pd.Series(temp).interpolate().values\n",
    "aviNOx_frac = aviNOx[:nt]/emis[:,8]\n",
    "\n",
    "unit_convert = np.ones(40)\n",
    "unit_convert[1]=0.001 * 12/44\n",
    "unit_convert[2]=0.001 * 12/44\n",
    "unit_convert[4]=0.001 * 28/44\n",
    "unit_convert[5]=32/64\n",
    "unit_convert[8]=14/46\n",
    "\n",
    "emis = emis * unit_convert\n",
    "\n",
    "conc_subset = conc_all[(conc_all['Scenario']==expt)&(conc_all['Region']=='World')]\n",
    "gases=['CO2','CH4','N2O','CF4','C2F6','C6F14','HFC23','HFC32','HFC4310mee','HFC125','HFC134a','HFC143a',\n",
    "       'HFC227ea','HFC245fa','SF6','CFC11','CFC12','CFC113','CFC114','CFC115','CCl4','CH3CCl3','HCFC22',\n",
    "       'HCFC141b','HCFC142b','Halon1211','Halon1202','Halon1301','Halon2402','CH3Br','CH3Cl']\n",
    "conc = np.zeros((nt, 31))\n",
    "\n",
    "for ig, gas in enumerate(gases):\n",
    "    try:\n",
    "        temp = conc_subset[conc_subset.Variable.str.endswith(gas)].loc[:,'1750':'2110'].values.squeeze()\n",
    "        conc[:,ig] = pd.Series(temp).interpolate().values\n",
    "    except:\n",
    "        conc[:,ig] = 0\n",
    "        \n",
    "def run_fair(args):\n",
    "        nt = len(emis)\n",
    "        F_solar = np.zeros(nt)\n",
    "        F_volcanic = np.zeros(nt)\n",
    "        \n",
    "        C,F,T,ariaci, lambda_eff, ohc, heatflux = fair_scm(\n",
    "            emissions=emis,\n",
    "            emissions_driven=False,\n",
    "            C_pi = conc[0,:],\n",
    "            C = conc,\n",
    "            natural=np.zeros((nt,2)),\n",
    "            F_volcanic=F_volcanic,#np.mean(F_volcanic),\n",
    "            F_solar=F_solar,\n",
    "            F2x=args['F2x'],\n",
    "            ariaci_out=True,\n",
    "            ghg_forcing='Meinshausen',\n",
    "            scale=np.asarray(args['scale']),\n",
    "            aerosol_forcing='aerocom+ghan2',\n",
    "            b_aero = np.asarray(args['b_aero']),\n",
    "            ghan_params=np.asarray(args['ghan_params']),\n",
    "            tropO3_forcing='thorhnill+skeie',\n",
    "            ozone_feedback=args['ozone_feedback'],\n",
    "            b_tro3 = np.array(args['b_tro3']),\n",
    "            E_pi=emis[0,:],\n",
    "            scaleAerosolAR5=False,\n",
    "            scaleHistoricalAR5=False,\n",
    "            fixPre1850RCP=False,\n",
    "            aviNOx_frac=0,\n",
    "            aCO2land = args['aCO2land'],\n",
    "            stwv_from_ch4 = args['stwv_from_ch4'],\n",
    "            F_ref_BC = args['F_ref_BC'],\n",
    "            E_ref_BC = args['E_ref_BC'],\n",
    "            efficacy=np.ones(45),\n",
    "            diagnostics='AR6',\n",
    "            temperature_function='Geoffroy',\n",
    "            lambda_global = args['lambda_global'],  # this and the below only used in two-layer model\n",
    "            deep_ocean_efficacy = args['deep_ocean_efficacy'],\n",
    "            ocean_heat_capacity = np.asarray(args['ocean_heat_capacity']),\n",
    "            ocean_heat_exchange = args['ocean_heat_exchange'],\n",
    "        )\n",
    "\n",
    "        nt = len(T)\n",
    "\n",
    "        return(T-T[100:151].mean(), np.sum(F, axis=1))\n",
    "\n",
    "    \n",
    "if platform.system() == 'Windows':\n",
    "    shape = (nt, len(config_list))\n",
    "    results_out[expt]['temperature'] = np.ones(shape) * np.nan\n",
    "    results_out[expt]['effective_radiative_forcing'] = np.ones(shape) * np.nan\n",
    "    for i, cfg in tqdm(enumerate(config_list[:len(config_list)]), total=len(config_list[:len(config_list)]), position=0, leave=True):\n",
    "        results_out['ssp370']['temperature'][:,i], results_out['ssp370']['effective_radiative_forcing'][:,i] = run_fair(config_list[i])"
   ]
  },
  {
   "cell_type": "code",
   "execution_count": 6,
   "id": "0685792e",
   "metadata": {},
   "outputs": [
    {
     "name": "stderr",
     "output_type": "stream",
     "text": [
      "100%|██████████████████████████████████████████████████████████████████████████████| 2237/2237 [02:15<00:00, 16.46it/s]\n"
     ]
    }
   ],
   "source": [
    "# constant 2015 GHG conc / SLCF emis\n",
    "# can't quite tell what assumption is for GHGs: SSP3 or constant 2015?\n",
    "expt = 'c1'\n",
    "results_out[expt] = {}\n",
    "emis_c1 = copy(emis)\n",
    "emis_c1[265:,5:12] = emis_c1[265:266,5:12]\n",
    "aviNOx_frac_c1 = copy(aviNOx_frac[:nt])\n",
    "aviNOx_frac_c1[265:] = aviNOx_frac[265]\n",
    "emis_c1 = emis_c1 * unit_convert\n",
    "\n",
    "conc_c1 = copy(conc)\n",
    "conc_c1[265:,:] = conc_c1[265:266,:]\n",
    "        \n",
    "def run_fair(args):\n",
    "        nt = len(emis)\n",
    "        F_solar = np.zeros(nt)\n",
    "        F_volcanic = np.zeros(nt)\n",
    "        \n",
    "        C,F,T,ariaci, lambda_eff, ohc, heatflux = fair_scm(\n",
    "            emissions=emis_c1,\n",
    "            emissions_driven=False,\n",
    "            C_pi = conc_c1[0,:],\n",
    "            C = conc_c1,\n",
    "            natural=np.zeros((nt,2)),\n",
    "            F_volcanic=F_volcanic,#np.mean(F_volcanic),\n",
    "            F_solar=F_solar,\n",
    "            F2x=args['F2x'],\n",
    "            ariaci_out=True,\n",
    "            ghg_forcing='Meinshausen',\n",
    "            scale=np.asarray(args['scale']),\n",
    "            aerosol_forcing='aerocom+ghan2',\n",
    "            b_aero = np.asarray(args['b_aero']),\n",
    "            ghan_params=np.asarray(args['ghan_params']),\n",
    "            tropO3_forcing='thorhnill+skeie',\n",
    "            ozone_feedback=args['ozone_feedback'],\n",
    "            b_tro3 = np.array(args['b_tro3']),\n",
    "            E_pi=emis_c1[0,:],\n",
    "            scaleAerosolAR5=False,\n",
    "            scaleHistoricalAR5=False,\n",
    "            fixPre1850RCP=False,\n",
    "            aviNOx_frac=0,\n",
    "            aCO2land = args['aCO2land'],\n",
    "            stwv_from_ch4 = args['stwv_from_ch4'],\n",
    "            F_ref_BC = args['F_ref_BC'],\n",
    "            E_ref_BC = args['E_ref_BC'],\n",
    "            efficacy=np.ones(45),\n",
    "            diagnostics='AR6',\n",
    "            temperature_function='Geoffroy',\n",
    "            lambda_global = args['lambda_global'],  # this and the below only used in two-layer model\n",
    "            deep_ocean_efficacy = args['deep_ocean_efficacy'],\n",
    "            ocean_heat_capacity = np.asarray(args['ocean_heat_capacity']),\n",
    "            ocean_heat_exchange = args['ocean_heat_exchange'],\n",
    "        )\n",
    "\n",
    "        nt = len(T)\n",
    "\n",
    "        return(T-T[100:151].mean(), np.sum(F, axis=1))\n",
    "\n",
    "    \n",
    "if platform.system() == 'Windows':\n",
    "    shape = (nt, len(config_list))\n",
    "    results_out[expt]['temperature'] = np.ones(shape) * np.nan\n",
    "    results_out[expt]['effective_radiative_forcing'] = np.ones(shape) * np.nan\n",
    "    for i, cfg in tqdm(enumerate(config_list[:len(config_list)]), total=len(config_list[:len(config_list)]), position=0, leave=True):\n",
    "        results_out[expt]['temperature'][:,i], results_out[expt]['effective_radiative_forcing'][:,i] = run_fair(config_list[i])"
   ]
  },
  {
   "cell_type": "code",
   "execution_count": 7,
   "id": "b1c994c5",
   "metadata": {},
   "outputs": [
    {
     "name": "stdout",
     "output_type": "stream",
     "text": [
      "1841.932699\n"
     ]
    }
   ],
   "source": [
    "print(conc_c1[265,1])"
   ]
  },
  {
   "cell_type": "code",
   "execution_count": 8,
   "id": "6cd48ce7",
   "metadata": {},
   "outputs": [
    {
     "name": "stderr",
     "output_type": "stream",
     "text": [
      "100%|██████████████████████████████████████████████████████████████████████████████| 2237/2237 [02:13<00:00, 16.70it/s]\n"
     ]
    }
   ],
   "source": [
    "# constant 2015 GHG conc / SLCF emis with CH4 conc reduced\n",
    "expt = 'c2'\n",
    "results_out[expt] = {}\n",
    "emis_c2 = copy(emis)\n",
    "emis_c2[265:,5:12] = emis_c2[265:266,5:12]\n",
    "aviNOx_frac_c2 = copy(aviNOx_frac[:nt])\n",
    "aviNOx_frac_c2[265:] = aviNOx_frac[265]\n",
    "emis_c2 = emis_c2 * unit_convert\n",
    "\n",
    "conc_c2 = copy(conc)\n",
    "conc_c2[265:,:] = conc_c2[265:266,:]\n",
    "conc_c2[265:,1] = 1278\n",
    "        \n",
    "def run_fair(args):\n",
    "        nt = len(emis)\n",
    "        F_solar = np.zeros(nt)\n",
    "        F_volcanic = np.zeros(nt)\n",
    "        \n",
    "        C,F,T,ariaci, lambda_eff, ohc, heatflux = fair_scm(\n",
    "            emissions=emis_c2,\n",
    "            emissions_driven=False,\n",
    "            C_pi = conc_c2[0,:],\n",
    "            C = conc_c2,\n",
    "            natural=np.zeros((nt,2)),\n",
    "            F_volcanic=F_volcanic,#np.mean(F_volcanic),\n",
    "            F_solar=F_solar,\n",
    "            F2x=args['F2x'],\n",
    "            ariaci_out=True,\n",
    "            ghg_forcing='Meinshausen',\n",
    "            scale=np.asarray(args['scale']),\n",
    "            aerosol_forcing='aerocom+ghan2',\n",
    "            b_aero = np.asarray(args['b_aero']),\n",
    "            ghan_params=np.asarray(args['ghan_params']),\n",
    "            tropO3_forcing='thorhnill+skeie',\n",
    "            ozone_feedback=args['ozone_feedback'],\n",
    "            b_tro3 = np.array(args['b_tro3']),\n",
    "            E_pi=emis_c2[0,:],\n",
    "            scaleAerosolAR5=False,\n",
    "            scaleHistoricalAR5=False,\n",
    "            fixPre1850RCP=False,\n",
    "            aviNOx_frac=0,\n",
    "            aCO2land = args['aCO2land'],\n",
    "            stwv_from_ch4 = args['stwv_from_ch4'],\n",
    "            F_ref_BC = args['F_ref_BC'],\n",
    "            E_ref_BC = args['E_ref_BC'],\n",
    "            efficacy=np.ones(45),\n",
    "            diagnostics='AR6',\n",
    "            temperature_function='Geoffroy',\n",
    "            lambda_global = args['lambda_global'],  # this and the below only used in two-layer model\n",
    "            deep_ocean_efficacy = args['deep_ocean_efficacy'],\n",
    "            ocean_heat_capacity = np.asarray(args['ocean_heat_capacity']),\n",
    "            ocean_heat_exchange = args['ocean_heat_exchange'],\n",
    "        )\n",
    "\n",
    "        nt = len(T)\n",
    "\n",
    "        return(T-T[100:151].mean(), np.sum(F, axis=1))\n",
    "\n",
    "    \n",
    "if platform.system() == 'Windows':\n",
    "    shape = (nt, len(config_list))\n",
    "    results_out[expt]['temperature'] = np.ones(shape) * np.nan\n",
    "    results_out[expt]['effective_radiative_forcing'] = np.ones(shape) * np.nan\n",
    "    for i, cfg in tqdm(enumerate(config_list[:len(config_list)]), total=len(config_list[:len(config_list)]), position=0, leave=True):\n",
    "        results_out[expt]['temperature'][:,i], results_out[expt]['effective_radiative_forcing'][:,i] = run_fair(config_list[i])"
   ]
  },
  {
   "cell_type": "code",
   "execution_count": 9,
   "id": "63a96625",
   "metadata": {},
   "outputs": [
    {
     "data": {
      "text/plain": [
       "[<matplotlib.lines.Line2D at 0x2cc924b50c8>]"
      ]
     },
     "execution_count": 9,
     "metadata": {},
     "output_type": "execute_result"
    },
    {
     "data": {
      "image/png": "[encoded data removed]",
      "text/plain": [
       "<Figure size 432x288 with 1 Axes>"
      ]
     },
     "metadata": {
      "needs_background": "light"
     },
     "output_type": "display_data"
    }
   ],
   "source": [
    "pl.plot(np.arange(1995.5, 2111), np.median(results_out['ssp370']['temperature'][245:,:], axis=1))\n",
    "pl.plot(np.arange(1995.5, 2111), np.median(results_out['c1']['temperature'][245:,:], axis=1))\n",
    "pl.plot(np.arange(1995.5, 2111), np.median(results_out['c2']['temperature'][245:,:], axis=1))"
   ]
  },
  {
   "cell_type": "code",
   "execution_count": 10,
   "id": "ca8fac3f",
   "metadata": {},
   "outputs": [
    {
     "data": {
      "text/plain": [
       "[<matplotlib.lines.Line2D at 0x2cc935fc108>]"
      ]
     },
     "execution_count": 10,
     "metadata": {},
     "output_type": "execute_result"
    },
    {
     "data": {
      "image/png": "[encoded data removed]",
      "text/plain": [
       "<Figure size 432x288 with 1 Axes>"
      ]
     },
     "metadata": {
      "needs_background": "light"
     },
     "output_type": "display_data"
    }
   ],
   "source": [
    "pl.plot(\n",
    "    np.arange(1995.5, 2111), \n",
    "    np.median(\n",
    "        results_out['c1']['temperature'][245:,:]-results_out['c2']['temperature'][245:,:], axis=1\n",
    "    )\n",
    ")"
   ]
  },
  {
   "cell_type": "markdown",
   "id": "2d3cd084",
   "metadata": {},
   "source": [
    "## Results\n",
    "\n",
    "The replication of the experiment in the Global Methane Assessment gives a temperature difference of 0.16C in the global mean for years 11-40 after enacation of the 30% methane reduction, similar to the 0.18C found in three CMIP6-era models in the GMA."
   ]
  },
  {
   "cell_type": "code",
   "execution_count": 11,
   "id": "28a0339c",
   "metadata": {},
   "outputs": [
    {
     "data": {
      "text/plain": [
       "0.16138649417568104"
      ]
     },
     "execution_count": 11,
     "metadata": {},
     "output_type": "execute_result"
    }
   ],
   "source": [
    "np.median(\n",
    "    results_out['c1']['temperature'][245:,:]-results_out['c2']['temperature'][245:,:], axis=1\n",
    ")[30:60].mean()"
   ]
  },
  {
   "cell_type": "code",
   "execution_count": null,
   "id": "1254f976",
   "metadata": {},
   "outputs": [],
   "source": []
  }
 ],
 "metadata": {
  "kernelspec": {
   "display_name": "Python 3 (ipykernel)",
   "language": "python",
   "name": "python3"
  },
  "language_info": {
   "codemirror_mode": {
    "name": "ipython",
    "version": 3
   },
   "file_extension": ".py",
   "mimetype": "text/x-python",
   "name": "python",
   "nbconvert_exporter": "python",
   "pygments_lexer": "ipython3",
   "version": "3.7.11"
  }
 },
 "nbformat": 4,
 "nbformat_minor": 5
}
