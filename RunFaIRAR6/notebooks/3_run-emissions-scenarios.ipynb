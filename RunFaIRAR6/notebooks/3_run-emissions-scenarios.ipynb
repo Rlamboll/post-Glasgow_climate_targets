{
 "cells": [
  {
   "cell_type": "markdown",
   "id": "9489eaae",
   "metadata": {},
   "source": [
    "# Run pathways in FaIR\n",
    "\n",
    "The pathways are generated elsewhere, imported here and then run."
   ]
  },
  {
   "cell_type": "code",
   "execution_count": 1,
   "id": "2e673f8e",
   "metadata": {},
   "outputs": [],
   "source": [
    "import json\n",
    "from multiprocessing import Pool\n",
    "import platform\n",
    "\n",
    "from climateforcing.utils import mkdir_p\n",
    "import fair\n",
    "import matplotlib.pyplot as pl\n",
    "import numpy as np\n",
    "import pandas as pd\n",
    "from tqdm import tqdm"
   ]
  },
  {
   "cell_type": "code",
   "execution_count": 2,
   "id": "2f3a7b5f",
   "metadata": {},
   "outputs": [],
   "source": [
    "with open('../data_input/fair-1.6.2-ar6/fair-1.6.2-wg3-params.json') as f:\n",
    "    config_list = json.load(f)"
   ]
  },
  {
   "cell_type": "code",
   "execution_count": 3,
   "id": "08cb0464",
   "metadata": {},
   "outputs": [],
   "source": [
    "emissions_in = {}\n",
    "results_out = {}\n",
    "WORKERS = 3  # set this based on your individual machine - allows parallelisation. nprocessors-1 is a sensible shout."
   ]
  },
  {
   "cell_type": "code",
   "execution_count": 4,
   "id": "3ec34ab1",
   "metadata": {},
   "outputs": [],
   "source": [
    "scenarios = [\"ssp245_constant-2020-ch4\", \"ch4_30\", \"ch4_40\", \"ch4_50\", \"coal-phase-out\"]"
   ]
  },
  {
   "cell_type": "code",
   "execution_count": 5,
   "id": "bf369caf",
   "metadata": {},
   "outputs": [],
   "source": [
    "for scenario in scenarios:\n",
    "    emissions_in[scenario] = np.loadtxt('../data_output/fair_emissions_files/{}.csv'.format(scenario), delimiter=',')"
   ]
  },
  {
   "cell_type": "markdown",
   "id": "12f70db3",
   "metadata": {},
   "source": [
    "## convenience function for running FaIR config with each emission species"
   ]
  },
  {
   "cell_type": "code",
   "execution_count": 6,
   "id": "7b2b4de8",
   "metadata": {},
   "outputs": [],
   "source": [
    "def run_fair(args):\n",
    "    thisC, thisF, thisT, _, thisOHU, _, thisAF = fair.forward.fair_scm(**args)\n",
    "    return (thisC[:,0], thisC[:,1], thisT, thisF[:,1], np.sum(thisF, axis=1))\n",
    "\n",
    "def fair_process(emissions):\n",
    "    updated_config = []\n",
    "    for i, cfg in enumerate(config_list):\n",
    "        updated_config.append({})\n",
    "        for key, value in cfg.items():\n",
    "            if isinstance(value, list):\n",
    "                updated_config[i][key] = np.asarray(value)\n",
    "            else:\n",
    "                updated_config[i][key] = value\n",
    "        updated_config[i]['emissions'] = emissions\n",
    "        updated_config[i]['diagnostics'] = 'AR6'\n",
    "        updated_config[i][\"efficacy\"] = np.ones(45)\n",
    "        updated_config[i][\"gir_carbon_cycle\"] = True\n",
    "        updated_config[i][\"temperature_function\"] = \"Geoffroy\"\n",
    "        updated_config[i][\"aerosol_forcing\"] = \"aerocom+ghan2\"\n",
    "        updated_config[i][\"fixPre1850RCP\"] = False\n",
    "    #    updated_config[i][\"scale\"][43] = 0.6\n",
    "        updated_config[i][\"F_solar\"][270:] = 0\n",
    "        \n",
    "    # multiprocessing is not working for me on Windows\n",
    "    if platform.system() == 'Windows':\n",
    "        shape = (361, len(updated_config))\n",
    "        c_co2 = np.ones(shape) * np.nan\n",
    "        c_ch4 = np.ones(shape) * np.nan\n",
    "        t = np.ones(shape) * np.nan\n",
    "        f_ch4 = np.ones(shape) * np.nan\n",
    "        f_tot = np.ones(shape) * np.nan\n",
    "        for i, cfg in tqdm(enumerate(updated_config), total=len(updated_config), position=0, leave=True):\n",
    "            c_co2[:,i], c_ch4[:,i], t[:,i], f_ch4[:,i], f_tot[:,i] = run_fair(updated_config[i])\n",
    "    \n",
    "    else:\n",
    "        if __name__ == '__main__':\n",
    "            with Pool(WORKERS) as pool:\n",
    "                result = list(tqdm(pool.imap(run_fair, updated_config), total=len(updated_config), position=0, leave=True))\n",
    "\n",
    "        result_t = np.array(result).transpose(1,2,0)\n",
    "        c_co2, c_ch4, t, f_ch4, f_tot = result_t\n",
    "    temp_rebase = t - t[100:151,:].mean(axis=0)\n",
    "    \n",
    "    return c_co2, c_ch4, temp_rebase, f_ch4, f_tot"
   ]
  },
  {
   "cell_type": "markdown",
   "id": "791aa072",
   "metadata": {},
   "source": [
    "## Do the runs"
   ]
  },
  {
   "cell_type": "code",
   "execution_count": 7,
   "id": "eef73436",
   "metadata": {},
   "outputs": [
    {
     "name": "stderr",
     "output_type": "stream",
     "text": [
      "100%|██████████████████████████████████████████████████████████████████████████████| 2237/2237 [03:01<00:00, 12.33it/s]\n",
      "100%|██████████████████████████████████████████████████████████████████████████████| 2237/2237 [03:04<00:00, 12.15it/s]\n",
      "100%|██████████████████████████████████████████████████████████████████████████████| 2237/2237 [03:00<00:00, 12.38it/s]\n",
      "100%|██████████████████████████████████████████████████████████████████████████████| 2237/2237 [02:57<00:00, 12.62it/s]\n",
      "100%|██████████████████████████████████████████████████████████████████████████████| 2237/2237 [03:02<00:00, 12.29it/s]\n",
      "100%|███████████████████████████████████████████████████████████████████████████████████| 5/5 [15:08<00:00, 181.67s/it]\n"
     ]
    }
   ],
   "source": [
    "for scenario in tqdm(scenarios, position=0, leave=True):\n",
    "    results_out[scenario] = {}\n",
    "    (\n",
    "        results_out[scenario]['co2_concentrations'],\n",
    "        results_out[scenario]['ch4_concentrations'],\n",
    "        results_out[scenario]['temperatures'],\n",
    "        results_out[scenario]['ch4_effective_radiative_forcing'],\n",
    "        results_out[scenario]['effective_radiative_forcing']\n",
    "    ) = fair_process(emissions_in[scenario])"
   ]
  },
  {
   "cell_type": "markdown",
   "id": "b812440d",
   "metadata": {},
   "source": [
    "## Save temperature outputs to analyse elsewhere"
   ]
  },
  {
   "cell_type": "code",
   "execution_count": 8,
   "id": "04a8e55c",
   "metadata": {},
   "outputs": [],
   "source": [
    "for scenario in scenarios:\n",
    "    for var in ['co2_concentrations', 'ch4_concentrations', 'temperatures', 'ch4_effective_radiative_forcing', 'effective_radiative_forcing']:\n",
    "        mkdir_p('../data_output/fair_{}/'.format(var))\n",
    "        df_out = pd.DataFrame(results_out[scenario][var][245:351,:])\n",
    "        df_out['year'] = np.arange(1995.5, 2101)\n",
    "        df_out.set_index('year', inplace=True)\n",
    "        df_out.to_csv('../data_output/fair_{}/{}.csv'.format(var, scenario), float_format=\"%6.4f\")"
   ]
  },
  {
   "cell_type": "code",
   "execution_count": 9,
   "id": "388c49d8",
   "metadata": {},
   "outputs": [
    {
     "data": {
      "text/plain": [
       "array([1995.5, 1996.5, 1997.5, 1998.5, 1999.5, 2000.5, 2001.5, 2002.5,\n",
       "       2003.5, 2004.5, 2005.5, 2006.5, 2007.5, 2008.5, 2009.5, 2010.5,\n",
       "       2011.5, 2012.5, 2013.5, 2014.5, 2015.5, 2016.5, 2017.5, 2018.5,\n",
       "       2019.5, 2020.5, 2021.5, 2022.5, 2023.5, 2024.5, 2025.5, 2026.5,\n",
       "       2027.5, 2028.5, 2029.5, 2030.5, 2031.5, 2032.5, 2033.5, 2034.5,\n",
       "       2035.5, 2036.5, 2037.5, 2038.5, 2039.5, 2040.5, 2041.5, 2042.5,\n",
       "       2043.5, 2044.5, 2045.5, 2046.5, 2047.5, 2048.5, 2049.5, 2050.5,\n",
       "       2051.5, 2052.5, 2053.5, 2054.5, 2055.5, 2056.5, 2057.5, 2058.5,\n",
       "       2059.5, 2060.5, 2061.5, 2062.5, 2063.5, 2064.5, 2065.5, 2066.5,\n",
       "       2067.5, 2068.5, 2069.5, 2070.5, 2071.5, 2072.5, 2073.5, 2074.5,\n",
       "       2075.5, 2076.5, 2077.5, 2078.5, 2079.5, 2080.5, 2081.5, 2082.5,\n",
       "       2083.5, 2084.5, 2085.5, 2086.5, 2087.5, 2088.5, 2089.5, 2090.5,\n",
       "       2091.5, 2092.5, 2093.5, 2094.5, 2095.5, 2096.5, 2097.5, 2098.5,\n",
       "       2099.5, 2100.5])"
      ]
     },
     "execution_count": 9,
     "metadata": {},
     "output_type": "execute_result"
    }
   ],
   "source": [
    "np.arange(1995.5, 2101)"
   ]
  },
  {
   "cell_type": "code",
   "execution_count": 29,
   "id": "4a9941c5",
   "metadata": {},
   "outputs": [
    {
     "data": {
      "text/plain": [
       "102.44782534450611"
      ]
     },
     "execution_count": 29,
     "metadata": {},
     "output_type": "execute_result"
    }
   ],
   "source": [
    "x = []\n",
    "for i in range(50000):\n",
    "    rand_vect = np.random.rand(100)\n",
    "    v = [1.5 - 0.9 * (x < 0.5) for x in rand_vect]\n",
    "    x.append(np.array(v).prod())\n",
    "np.array(x).mean()"
   ]
  },
  {
   "cell_type": "code",
   "execution_count": 32,
   "id": "dce9bde2",
   "metadata": {},
   "outputs": [
    {
     "data": {
      "text/plain": [
       "1.1025"
      ]
     },
     "execution_count": 32,
     "metadata": {},
     "output_type": "execute_result"
    }
   ],
   "source": [
    "(1.5 ** 2 + 1.5*0.6*2 + 0.6**2)/4"
   ]
  },
  {
   "cell_type": "code",
   "execution_count": 33,
   "id": "f63aad2c",
   "metadata": {},
   "outputs": [
    {
     "data": {
      "text/plain": [
       "1.05"
      ]
     },
     "execution_count": 33,
     "metadata": {},
     "output_type": "execute_result"
    }
   ],
   "source": [
    "np.array(x)"
   ]
  },
  {
   "cell_type": "code",
   "execution_count": 45,
   "id": "ebf1cc74",
   "metadata": {},
   "outputs": [],
   "source": [
    "import matplotlib.pyplot as plt"
   ]
  },
  {
   "cell_type": "code",
   "execution_count": 49,
   "id": "021eef0e",
   "metadata": {},
   "outputs": [],
   "source": [
    "? plt.hist"
   ]
  },
  {
   "cell_type": "code",
   "execution_count": 50,
   "id": "d5653bc1",
   "metadata": {
    "scrolled": true
   },
   "outputs": [
    {
     "data": {
      "text/plain": [
       "Text(0.5, 0, 'log of winnings')"
      ]
     },
     "execution_count": 50,
     "metadata": {},
     "output_type": "execute_result"
    },
    {
     "data": {
      "image/png": "[encoded data removed]",
      "text/plain": [
       "<Figure size 432x288 with 1 Axes>"
      ]
     },
     "metadata": {
      "needs_background": "light"
     },
     "output_type": "display_data"
    }
   ],
   "source": [
    "plt.hist(np.log(np.array(x)), density=True)\n",
    "plt.xlabel(\"log of winnings\")"
   ]
  }
 ],
 "metadata": {
  "kernelspec": {
   "display_name": "silicone-1",
   "language": "python",
   "name": "silicone-1"
  },
  "language_info": {
   "codemirror_mode": {
    "name": "ipython",
    "version": 3
   },
   "file_extension": ".py",
   "mimetype": "text/x-python",
   "name": "python",
   "nbconvert_exporter": "python",
   "pygments_lexer": "ipython3",
   "version": "3.7.11"
  }
 },
 "nbformat": 4,
 "nbformat_minor": 5
}
